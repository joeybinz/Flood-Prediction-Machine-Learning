{
 "cells": [
  {
   "cell_type": "code",
   "execution_count": 1,
   "id": "e9d55a4a",
   "metadata": {},
   "outputs": [],
   "source": [
    "import numpy as np\n",
    "import collections\n",
    "import pandas as pd\n",
    "import matplotlib.pyplot as plt\n",
    "#!C:/Users/joey/anaconda3/python.exe -m pip install tensorflow\n",
    "\n",
    "import tensorflow as tf\n",
    "#from tensorflow.contrib import rnn"
   ]
  },
  {
   "cell_type": "markdown",
   "id": "e8aba6a1",
   "metadata": {},
   "source": [
    "### Importing the data & doing some basic data cleaning"
   ]
  },
  {
   "cell_type": "code",
   "execution_count": 2,
   "id": "9cd47f19",
   "metadata": {},
   "outputs": [
    {
     "name": "stdout",
     "output_type": "stream",
     "text": [
      "Date              0\n",
      "Gauge_Height    312\n",
      "dtype: int64\n",
      "(13225, 2)\n",
      "            Gauge_Height\n",
      "Date                    \n",
      "1986-10-01         17.81\n",
      "1986-10-02         17.77\n",
      "1986-10-03         17.85\n",
      "1986-10-04         17.81\n",
      "1986-10-05         17.71\n",
      "...                  ...\n",
      "2022-03-10         18.08\n",
      "2022-03-11         18.44\n",
      "2022-03-12         17.33\n",
      "2022-03-13         17.61\n",
      "2022-03-14         17.80\n",
      "\n",
      "[12949 rows x 1 columns]\n"
     ]
    }
   ],
   "source": [
    "# LOADING GAUGE DATA\n",
    "# Obtained from USGS wbesite from the Charleston area.\n",
    "\n",
    "# Data Column Info:\n",
    "#\n",
    "# Date: Date of recording 'yyyy-mm-dd' recorded daily\n",
    "#\n",
    "# Gauge Height: Recorded height of the river from the station. (ft)\n",
    "\n",
    "# Reading in the data\n",
    "df = pd.read_csv('chasflood.csv', encoding='utf-8', sep='\\t', on_bad_lines='skip')\n",
    "df2 = pd.DataFrame()\n",
    "df2['Date']= df['3']\n",
    "df2['Gauge_Height'] = df['22']\n",
    "\n",
    "# view number of null entries\n",
    "print(df2.isna().sum())\n",
    "print(df2.shape)\n",
    "\n",
    "\n",
    "# getting rid of some bad data\n",
    "df2 = df2[df2['Date'] != '20d']\n",
    "df2 = df2[df2['Date'] != '2022-03-15']\n",
    "df2 = df2[df2['Date'] != '2022-03-16']\n",
    "\n",
    "# drop the null entries\n",
    "df2 = df2.dropna()\n",
    "\n",
    "# set datetime index\n",
    "df2['Date'] = pd.to_datetime(df2.Date)\n",
    "df2 = df2.set_index('Date')\n",
    "df2 = df2.resample('1D').mean().interpolate()\n",
    "\n",
    "# print the dataset\n",
    "print(df2)\n",
    "\n",
    "\n",
    "\n"
   ]
  },
  {
   "cell_type": "code",
   "execution_count": 3,
   "id": "a8bf5f2c",
   "metadata": {},
   "outputs": [
    {
     "name": "stdout",
     "output_type": "stream",
     "text": [
      "(12949, 1)\n",
      "            Precip\n",
      "Date              \n",
      "1986-10-01    0.00\n",
      "1986-10-02    0.00\n",
      "1986-10-03    0.00\n",
      "1986-10-04    0.00\n",
      "1986-10-05    0.00\n",
      "...            ...\n",
      "2022-03-10    0.15\n",
      "2022-03-11    0.00\n",
      "2022-03-12    0.05\n",
      "2022-03-13    0.00\n",
      "2022-03-14    0.00\n",
      "\n",
      "[12949 rows x 1 columns]\n"
     ]
    }
   ],
   "source": [
    "# LOADING PRECIPITATION DATA & CLEANING\n",
    "#\n",
    "# The data was taken from NOAA's rainfall database recorded daily\n",
    "#\n",
    "# Column Info: \n",
    "#\n",
    "# Date: date of recording 'yyyy-mm-dd' recorded daily\n",
    "# \n",
    "# Precip: precipitation totals recorded daily (inches)\n",
    "\n",
    "# read in data\n",
    "df3 = pd.read_csv('chas_rainfall.csv')\n",
    "df4 = pd.DataFrame()\n",
    "df4['Date'] = df3['DATE']\n",
    "df4['Precip'] = df3['PRCP']\n",
    "\n",
    "# remove some bad data & fix data types\n",
    "df4['Date'] = pd.to_datetime(df4.Date)\n",
    "df4 = df4[df4['Date'] >= '1986-10-01']\n",
    "\n",
    "# set date time index\n",
    "df4 = df4.set_index('Date')\n",
    "\n",
    "print(df4.shape)\n",
    "print(df4)"
   ]
  },
  {
   "cell_type": "code",
   "execution_count": 173,
   "id": "d8a69dac",
   "metadata": {},
   "outputs": [
    {
     "name": "stdout",
     "output_type": "stream",
     "text": [
      "Precip          float64\n",
      "Gauge_Height    float64\n",
      "dtype: object\n",
      "            Precip  Gauge_Height\n",
      "Date                            \n",
      "1986-10-01    0.00         17.81\n",
      "1986-10-02    0.00         17.77\n",
      "1986-10-03    0.00         17.85\n",
      "1986-10-04    0.00         17.81\n",
      "1986-10-05    0.00         17.71\n",
      "...            ...           ...\n",
      "2022-03-10    0.15         18.08\n",
      "2022-03-11    0.00         18.44\n",
      "2022-03-12    0.05         17.33\n",
      "2022-03-13    0.00         17.61\n",
      "2022-03-14    0.00         17.80\n",
      "\n",
      "[12949 rows x 2 columns]\n",
      "Number of unique Gauge Height observations: \n",
      "(382,)\n",
      "Number of unique Precipitation observations: \n",
      "(296,)\n"
     ]
    }
   ],
   "source": [
    "# COMBINING PRECIP & GAUGE HEIGHT ON DATE\n",
    "\n",
    "cdf = df4\n",
    "cdf['Gauge_Height'] = df2['Gauge_Height']\n",
    "\n",
    "print(cdf.dtypes)\n",
    "\n",
    "print(cdf)\n",
    "\n",
    "print(\"Number of unique Gauge Height observations: \")\n",
    "print(pd.unique(cdf['Gauge_Height']).shape)\n",
    "\n",
    "print(\"Number of unique Precipitation observations: \")\n",
    "print(pd.unique(cdf['Precip']).shape)\n"
   ]
  },
  {
   "cell_type": "markdown",
   "id": "e59ecb52",
   "metadata": {},
   "source": [
    "### Finding some interesting cases in the data:"
   ]
  },
  {
   "cell_type": "code",
   "execution_count": 5,
   "id": "d72cb83e",
   "metadata": {},
   "outputs": [
    {
     "name": "stdout",
     "output_type": "stream",
     "text": [
      "2017-09-11 00:00:00\n",
      "Precip           5.51\n",
      "Gauge_Height    20.96\n",
      "Name: 2017-09-11 00:00:00, dtype: float64\n"
     ]
    }
   ],
   "source": [
    "\n",
    "idx = cdf['Gauge_Height'].idxmax()\n",
    "print(idx)\n",
    "\n",
    "print(cdf.loc['2017-09-11']) # date 1 to use for prediction"
   ]
  },
  {
   "cell_type": "code",
   "execution_count": 6,
   "id": "848e02de",
   "metadata": {},
   "outputs": [
    {
     "name": "stdout",
     "output_type": "stream",
     "text": [
      "1993-03-14 00:00:00\n",
      "Precip           0.00\n",
      "Gauge_Height    15.33\n",
      "Name: 1993-03-14 00:00:00, dtype: float64\n"
     ]
    }
   ],
   "source": [
    "idx = cdf['Gauge_Height'].idxmin()\n",
    "print(idx)\n",
    "\n",
    "print(cdf.loc['1993-03-14']) # date 2 to use for prediction"
   ]
  },
  {
   "cell_type": "code",
   "execution_count": 7,
   "id": "ef766400",
   "metadata": {},
   "outputs": [
    {
     "name": "stdout",
     "output_type": "stream",
     "text": [
      "2015-10-03 00:00:00\n",
      "Precip          11.5\n",
      "Gauge_Height    20.2\n",
      "Name: 2015-10-03 00:00:00, dtype: float64\n"
     ]
    }
   ],
   "source": [
    "idx = cdf['Precip'].idxmax()\n",
    "print(idx)\n",
    "\n",
    "print(cdf.loc['2015-10-03']) # date 3 to use for prediction"
   ]
  },
  {
   "cell_type": "markdown",
   "id": "aad9de0b",
   "metadata": {},
   "source": [
    "### Visualizing the data\n",
    "\n",
    "Plotting the data over time:"
   ]
  },
  {
   "cell_type": "code",
   "execution_count": 8,
   "id": "70265dac",
   "metadata": {},
   "outputs": [
    {
     "data": {
      "text/plain": [
       "<AxesSubplot:xlabel='Date'>"
      ]
     },
     "execution_count": 8,
     "metadata": {},
     "output_type": "execute_result"
    },
    {
     "data": {
      "image/png": "[encoded data removed]",
      "text/plain": [
       "<Figure size 864x432 with 1 Axes>"
      ]
     },
     "metadata": {
      "needs_background": "light"
     },
     "output_type": "display_data"
    }
   ],
   "source": [
    "cdf.plot(figsize=(12,6))\n",
    "# df = df[df['Guage Height'] != 0.00]\n",
    "# df"
   ]
  },
  {
   "cell_type": "markdown",
   "id": "7d016e71",
   "metadata": {},
   "source": [
    "Plotting the seasonal decomposition:"
   ]
  },
  {
   "cell_type": "code",
   "execution_count": 9,
   "id": "6b0fd99d",
   "metadata": {},
   "outputs": [],
   "source": [
    "from statsmodels.tsa.seasonal import seasonal_decompose"
   ]
  },
  {
   "cell_type": "code",
   "execution_count": 10,
   "id": "0157dbd4",
   "metadata": {},
   "outputs": [
    {
     "data": {
      "image/png": "[encoded data removed]",
      "text/plain": [
       "<Figure size 432x288 with 4 Axes>"
      ]
     },
     "execution_count": 10,
     "metadata": {},
     "output_type": "execute_result"
    },
    {
     "data": {
      "image/png": "[encoded data removed]",
      "text/plain": [
       "<Figure size 432x288 with 4 Axes>"
      ]
     },
     "metadata": {
      "needs_background": "light"
     },
     "output_type": "display_data"
    }
   ],
   "source": [
    "res = seasonal_decompose(cdf['Precip'])\n",
    "res.plot()"
   ]
  },
  {
   "cell_type": "code",
   "execution_count": 11,
   "id": "862719a8",
   "metadata": {},
   "outputs": [
    {
     "data": {
      "image/png": "[encoded data removed]",
      "text/plain": [
       "<Figure size 432x288 with 4 Axes>"
      ]
     },
     "execution_count": 11,
     "metadata": {},
     "output_type": "execute_result"
    },
    {
     "data": {
      "image/png": "[encoded data removed]",
      "text/plain": [
       "<Figure size 432x288 with 4 Axes>"
      ]
     },
     "metadata": {
      "needs_background": "light"
     },
     "output_type": "display_data"
    }
   ],
   "source": [
    "res = seasonal_decompose(cdf['Gauge_Height'])\n",
    "res.plot()"
   ]
  },
  {
   "cell_type": "code",
   "execution_count": 12,
   "id": "4e7a6d5c",
   "metadata": {},
   "outputs": [
    {
     "data": {
      "text/plain": [
       "12949"
      ]
     },
     "execution_count": 12,
     "metadata": {},
     "output_type": "execute_result"
    }
   ],
   "source": [
    "len(cdf) # Number of entries"
   ]
  },
  {
   "cell_type": "code",
   "execution_count": 13,
   "id": "c5e62842",
   "metadata": {},
   "outputs": [],
   "source": [
    "# # Test previous year with rest of data\n",
    "# train = cdf.iloc[:12584]\n",
    "# test = cdf.iloc[12584:]"
   ]
  },
  {
   "cell_type": "markdown",
   "id": "047eccf9",
   "metadata": {},
   "source": [
    "### Preparing data for machine learning and building model"
   ]
  },
  {
   "cell_type": "code",
   "execution_count": 14,
   "id": "f279a121",
   "metadata": {},
   "outputs": [],
   "source": [
    "# import scalers\n",
    "from sklearn.preprocessing import MinMaxScaler\n",
    "# separate scalers for guage height and precipitation used to read results\n",
    "scalerP = MinMaxScaler()\n",
    "scalerG = MinMaxScaler()\n",
    "\n",
    "# scaler for both\n",
    "scaler = MinMaxScaler()"
   ]
  },
  {
   "cell_type": "markdown",
   "id": "cc102b85",
   "metadata": {},
   "source": [
    "Scaling the data:"
   ]
  },
  {
   "cell_type": "code",
   "execution_count": 15,
   "id": "247abecd",
   "metadata": {},
   "outputs": [],
   "source": [
    "pvals = cdf['Precip']\n",
    "gvals = cdf['Gauge_Height']\n",
    "\n",
    "scaledP = scalerP.fit_transform(pvals.values.reshape(-1,1))\n",
    "scaledG = scalerG.fit_transform(gvals.values.reshape(-1,1))\n"
   ]
  },
  {
   "cell_type": "code",
   "execution_count": 16,
   "id": "cc9fc47f",
   "metadata": {},
   "outputs": [],
   "source": [
    "# scale values\n",
    "# scaler.fit(train)\n",
    "# scaled_train = scaler.transform(train)\n",
    "# scaled_test = scaler.transform(test)\n",
    "\n",
    "# scaled_train[:10]"
   ]
  },
  {
   "cell_type": "code",
   "execution_count": 17,
   "id": "b9a350af",
   "metadata": {},
   "outputs": [
    {
     "name": "stdout",
     "output_type": "stream",
     "text": [
      "            Precip  Gauge_Height\n",
      "Date                            \n",
      "1986-10-01    0.00         17.81\n",
      "1986-10-02    0.00         17.77\n",
      "1986-10-03    0.00         17.85\n",
      "1986-10-04    0.00         17.81\n",
      "1986-10-05    0.00         17.71\n",
      "...            ...           ...\n",
      "2022-03-10    0.15         18.08\n",
      "2022-03-11    0.00         18.44\n",
      "2022-03-12    0.05         17.33\n",
      "2022-03-13    0.00         17.61\n",
      "2022-03-14    0.00         17.80\n",
      "\n",
      "[12949 rows x 2 columns]\n",
      "[[0.         0.44049734]\n",
      " [0.         0.43339254]\n",
      " [0.         0.44760213]\n",
      " ...\n",
      " [0.00434783 0.35523979]\n",
      " [0.         0.40497336]\n",
      " [0.         0.43872114]]\n"
     ]
    },
    {
     "data": {
      "text/plain": [
       "array([[ 0.  , 17.81],\n",
       "       [ 0.  , 17.77],\n",
       "       [ 0.  , 17.85],\n",
       "       ...,\n",
       "       [ 0.05, 17.33],\n",
       "       [ 0.  , 17.61],\n",
       "       [ 0.  , 17.8 ]])"
      ]
     },
     "execution_count": 17,
     "metadata": {},
     "output_type": "execute_result"
    }
   ],
   "source": [
    "print(cdf)\n",
    "vals = cdf.values\n",
    "scaled = scaler.fit_transform(vals)\n",
    "print(scaled)\n",
    "unscaled = scaler.inverse_transform(scaled)\n",
    "unscaled"
   ]
  },
  {
   "cell_type": "markdown",
   "id": "7f51ded4",
   "metadata": {},
   "source": [
    "Explanation for function used"
   ]
  },
  {
   "cell_type": "code",
   "execution_count": 101,
   "id": "3f913aea",
   "metadata": {},
   "outputs": [],
   "source": [
    "\n",
    "# FUNCTION FROM \n",
    "# https://machinelearningmastery.com/multivariate-time-series-forecasting-lstms-keras/\n",
    "# NOT MY WORK\n",
    "\n",
    "from pandas import DataFrame\n",
    "from pandas import concat\n",
    " \n",
    "def series_to_supervised(data, n_in=1, n_out=1, dropnan=True):\n",
    "\t\"\"\"\n",
    "\tFrame a time series as a supervised learning dataset.\n",
    "\tArguments:\n",
    "\t\tdata: Sequence of observations as a list or NumPy array.\n",
    "\t\tn_in: Number of lag observations as input (X).\n",
    "\t\tn_out: Number of observations as output (y).\n",
    "\t\tdropnan: Boolean whether or not to drop rows with NaN values.\n",
    "\tReturns:\n",
    "\t\tPandas DataFrame of series framed for supervised learning.\n",
    "\t\"\"\"\n",
    "\tn_vars = 1 if type(data) is list else data.shape[1]\n",
    "\tdf = DataFrame(data)\n",
    "\tcols, names = list(), list()\n",
    "\t# input sequence (t-n, ... t-1)\n",
    "\tfor i in range(n_in, 0, -1):\n",
    "\t\tcols.append(df.shift(i))\n",
    "\t\tnames += [('var%d(t-%d)' % (j+1, i)) for j in range(n_vars)]\n",
    "\t# forecast sequence (t, t+1, ... t+n)\n",
    "\tfor i in range(0, n_out):\n",
    "\t\tcols.append(df.shift(-i))\n",
    "\t\tif i == 0:\n",
    "\t\t\tnames += [('var%d(t)' % (j+1)) for j in range(n_vars)]\n",
    "\t\telse:\n",
    "\t\t\tnames += [('var%d(t+%d)' % (j+1, i)) for j in range(n_vars)]\n",
    "\t# put it all together\n",
    "\tagg = concat(cols, axis=1)\n",
    "\tagg.columns = names\n",
    "\t# drop rows with NaN values\n",
    "\tif dropnan:\n",
    "\t\tagg.dropna(inplace=True)\n",
    "\treturn agg"
   ]
  },
  {
   "cell_type": "code",
   "execution_count": 163,
   "id": "8bbb53f4",
   "metadata": {},
   "outputs": [
    {
     "data": {
      "text/html": [
       "<div>\n",
       "<style scoped>\n",
       "    .dataframe tbody tr th:only-of-type {\n",
       "        vertical-align: middle;\n",
       "    }\n",
       "\n",
       "    .dataframe tbody tr th {\n",
       "        vertical-align: top;\n",
       "    }\n",
       "\n",
       "    .dataframe thead th {\n",
       "        text-align: right;\n",
       "    }\n",
       "</style>\n",
       "<table border=\"1\" class=\"dataframe\">\n",
       "  <thead>\n",
       "    <tr style=\"text-align: right;\">\n",
       "      <th></th>\n",
       "      <th>var1(t-1)</th>\n",
       "      <th>var2(t-1)</th>\n",
       "      <th>var2(t)</th>\n",
       "    </tr>\n",
       "  </thead>\n",
       "  <tbody>\n",
       "    <tr>\n",
       "      <th>1</th>\n",
       "      <td>0.000000</td>\n",
       "      <td>0.440497</td>\n",
       "      <td>0.433393</td>\n",
       "    </tr>\n",
       "    <tr>\n",
       "      <th>2</th>\n",
       "      <td>0.000000</td>\n",
       "      <td>0.433393</td>\n",
       "      <td>0.447602</td>\n",
       "    </tr>\n",
       "    <tr>\n",
       "      <th>3</th>\n",
       "      <td>0.000000</td>\n",
       "      <td>0.447602</td>\n",
       "      <td>0.440497</td>\n",
       "    </tr>\n",
       "    <tr>\n",
       "      <th>4</th>\n",
       "      <td>0.000000</td>\n",
       "      <td>0.440497</td>\n",
       "      <td>0.422735</td>\n",
       "    </tr>\n",
       "    <tr>\n",
       "      <th>5</th>\n",
       "      <td>0.000000</td>\n",
       "      <td>0.422735</td>\n",
       "      <td>0.495560</td>\n",
       "    </tr>\n",
       "    <tr>\n",
       "      <th>...</th>\n",
       "      <td>...</td>\n",
       "      <td>...</td>\n",
       "      <td>...</td>\n",
       "    </tr>\n",
       "    <tr>\n",
       "      <th>12944</th>\n",
       "      <td>0.005217</td>\n",
       "      <td>0.433393</td>\n",
       "      <td>0.488455</td>\n",
       "    </tr>\n",
       "    <tr>\n",
       "      <th>12945</th>\n",
       "      <td>0.013043</td>\n",
       "      <td>0.488455</td>\n",
       "      <td>0.552398</td>\n",
       "    </tr>\n",
       "    <tr>\n",
       "      <th>12946</th>\n",
       "      <td>0.000000</td>\n",
       "      <td>0.552398</td>\n",
       "      <td>0.355240</td>\n",
       "    </tr>\n",
       "    <tr>\n",
       "      <th>12947</th>\n",
       "      <td>0.004348</td>\n",
       "      <td>0.355240</td>\n",
       "      <td>0.404973</td>\n",
       "    </tr>\n",
       "    <tr>\n",
       "      <th>12948</th>\n",
       "      <td>0.000000</td>\n",
       "      <td>0.404973</td>\n",
       "      <td>0.438721</td>\n",
       "    </tr>\n",
       "  </tbody>\n",
       "</table>\n",
       "<p>12948 rows × 3 columns</p>\n",
       "</div>"
      ],
      "text/plain": [
       "       var1(t-1)  var2(t-1)   var2(t)\n",
       "1       0.000000   0.440497  0.433393\n",
       "2       0.000000   0.433393  0.447602\n",
       "3       0.000000   0.447602  0.440497\n",
       "4       0.000000   0.440497  0.422735\n",
       "5       0.000000   0.422735  0.495560\n",
       "...          ...        ...       ...\n",
       "12944   0.005217   0.433393  0.488455\n",
       "12945   0.013043   0.488455  0.552398\n",
       "12946   0.000000   0.552398  0.355240\n",
       "12947   0.004348   0.355240  0.404973\n",
       "12948   0.000000   0.404973  0.438721\n",
       "\n",
       "[12948 rows x 3 columns]"
      ]
     },
     "execution_count": 163,
     "metadata": {},
     "output_type": "execute_result"
    }
   ],
   "source": [
    "# Adding a variable including the previous day's flood data & rain data (input)\n",
    "# predict current day's flooding (output)\n",
    "\n",
    "reframed = series_to_supervised(scaled, 1, 1)\n",
    "reframed.drop(reframed.columns[[2]], axis=1, inplace=True)\n",
    "reframed"
   ]
  },
  {
   "cell_type": "markdown",
   "id": "a0a7c8cf",
   "metadata": {},
   "source": [
    "Split the scaled data into the testing and training sets"
   ]
  },
  {
   "cell_type": "code",
   "execution_count": 164,
   "id": "a74185f9",
   "metadata": {},
   "outputs": [
    {
     "name": "stdout",
     "output_type": "stream",
     "text": [
      "(12218, 1, 2) (12218,) (730, 1, 2) (730,)\n"
     ]
    }
   ],
   "source": [
    "#get testing and training sets\n",
    "\n",
    "values = reframed.values\n",
    "len(values)\n",
    "\n",
    "#predict future two years based of previous data\n",
    "n_train_days = len(values) - (365*2)\n",
    "train = values[:n_train_days, :]\n",
    "test = values[n_train_days:, :]\n",
    "\n",
    "#split into input and outputs\n",
    "train_X, train_y = train[:, :-1], train[:, -1]\n",
    "test_X, test_y = test[:, :-1], test[:, -1]\n",
    "\n",
    "#shape input to be 3D\n",
    "train_X = train_X.reshape((train_X.shape[0], 1, train_X.shape[1]))\n",
    "test_X = test_X.reshape((test_X.shape[0], 1, test_X.shape[1]))\n",
    "\n",
    "print(train_X.shape, train_y.shape, test_X.shape, test_y.shape)"
   ]
  },
  {
   "cell_type": "markdown",
   "id": "464e8947",
   "metadata": {},
   "source": [
    "Build and fit the model"
   ]
  },
  {
   "cell_type": "code",
   "execution_count": 165,
   "id": "6756c19c",
   "metadata": {},
   "outputs": [],
   "source": [
    "from keras.models import Sequential\n",
    "from keras.layers import Dense\n",
    "from keras.layers import LSTM\n",
    "# define and fit model!\n",
    "\n",
    "model = Sequential()\n",
    "model.add(LSTM(50, input_shape=(train_X.shape[1], train_X.shape[2])))\n",
    "# model.add(LSTM(50, return_sequences=True))\n",
    "model.add(Dense(1))\n",
    "model.compile(loss='mae', optimizer='adam')"
   ]
  },
  {
   "cell_type": "code",
   "execution_count": 167,
   "id": "b4d8fc72",
   "metadata": {},
   "outputs": [
    {
     "name": "stdout",
     "output_type": "stream",
     "text": [
      "Epoch 1/50\n",
      "170/170 - 0s - loss: 0.0417 - val_loss: 0.0392 - 421ms/epoch - 2ms/step\n",
      "Epoch 2/50\n",
      "170/170 - 0s - loss: 0.0419 - val_loss: 0.0391 - 387ms/epoch - 2ms/step\n",
      "Epoch 3/50\n",
      "170/170 - 0s - loss: 0.0419 - val_loss: 0.0391 - 414ms/epoch - 2ms/step\n",
      "Epoch 4/50\n",
      "170/170 - 0s - loss: 0.0419 - val_loss: 0.0392 - 477ms/epoch - 3ms/step\n",
      "Epoch 5/50\n",
      "170/170 - 0s - loss: 0.0419 - val_loss: 0.0392 - 447ms/epoch - 3ms/step\n",
      "Epoch 6/50\n",
      "170/170 - 1s - loss: 0.0419 - val_loss: 0.0391 - 513ms/epoch - 3ms/step\n",
      "Epoch 7/50\n",
      "170/170 - 1s - loss: 0.0419 - val_loss: 0.0391 - 597ms/epoch - 4ms/step\n",
      "Epoch 8/50\n",
      "170/170 - 1s - loss: 0.0419 - val_loss: 0.0391 - 536ms/epoch - 3ms/step\n",
      "Epoch 9/50\n",
      "170/170 - 1s - loss: 0.0418 - val_loss: 0.0391 - 542ms/epoch - 3ms/step\n",
      "Epoch 10/50\n",
      "170/170 - 1s - loss: 0.0419 - val_loss: 0.0391 - 553ms/epoch - 3ms/step\n",
      "Epoch 11/50\n",
      "170/170 - 1s - loss: 0.0419 - val_loss: 0.0390 - 642ms/epoch - 4ms/step\n",
      "Epoch 12/50\n",
      "170/170 - 1s - loss: 0.0419 - val_loss: 0.0391 - 628ms/epoch - 4ms/step\n",
      "Epoch 13/50\n",
      "170/170 - 1s - loss: 0.0419 - val_loss: 0.0391 - 513ms/epoch - 3ms/step\n",
      "Epoch 14/50\n",
      "170/170 - 1s - loss: 0.0419 - val_loss: 0.0391 - 695ms/epoch - 4ms/step\n",
      "Epoch 15/50\n",
      "170/170 - 1s - loss: 0.0419 - val_loss: 0.0391 - 769ms/epoch - 5ms/step\n",
      "Epoch 16/50\n",
      "170/170 - 1s - loss: 0.0419 - val_loss: 0.0391 - 561ms/epoch - 3ms/step\n",
      "Epoch 17/50\n",
      "170/170 - 1s - loss: 0.0419 - val_loss: 0.0390 - 612ms/epoch - 4ms/step\n",
      "Epoch 18/50\n",
      "170/170 - 1s - loss: 0.0419 - val_loss: 0.0391 - 687ms/epoch - 4ms/step\n",
      "Epoch 19/50\n",
      "170/170 - 1s - loss: 0.0419 - val_loss: 0.0391 - 573ms/epoch - 3ms/step\n",
      "Epoch 20/50\n",
      "170/170 - 1s - loss: 0.0418 - val_loss: 0.0391 - 536ms/epoch - 3ms/step\n",
      "Epoch 21/50\n",
      "170/170 - 1s - loss: 0.0419 - val_loss: 0.0391 - 664ms/epoch - 4ms/step\n",
      "Epoch 22/50\n",
      "170/170 - 1s - loss: 0.0419 - val_loss: 0.0390 - 559ms/epoch - 3ms/step\n",
      "Epoch 23/50\n",
      "170/170 - 1s - loss: 0.0419 - val_loss: 0.0391 - 693ms/epoch - 4ms/step\n",
      "Epoch 24/50\n",
      "170/170 - 1s - loss: 0.0419 - val_loss: 0.0391 - 525ms/epoch - 3ms/step\n",
      "Epoch 25/50\n",
      "170/170 - 1s - loss: 0.0419 - val_loss: 0.0391 - 541ms/epoch - 3ms/step\n",
      "Epoch 26/50\n",
      "170/170 - 1s - loss: 0.0418 - val_loss: 0.0391 - 630ms/epoch - 4ms/step\n",
      "Epoch 27/50\n",
      "170/170 - 1s - loss: 0.0419 - val_loss: 0.0391 - 524ms/epoch - 3ms/step\n",
      "Epoch 28/50\n",
      "170/170 - 1s - loss: 0.0419 - val_loss: 0.0390 - 537ms/epoch - 3ms/step\n",
      "Epoch 29/50\n",
      "170/170 - 1s - loss: 0.0419 - val_loss: 0.0391 - 554ms/epoch - 3ms/step\n",
      "Epoch 30/50\n",
      "170/170 - 1s - loss: 0.0419 - val_loss: 0.0390 - 538ms/epoch - 3ms/step\n",
      "Epoch 31/50\n",
      "170/170 - 0s - loss: 0.0418 - val_loss: 0.0391 - 444ms/epoch - 3ms/step\n",
      "Epoch 32/50\n",
      "170/170 - 0s - loss: 0.0419 - val_loss: 0.0390 - 467ms/epoch - 3ms/step\n",
      "Epoch 33/50\n",
      "170/170 - 0s - loss: 0.0419 - val_loss: 0.0390 - 407ms/epoch - 2ms/step\n",
      "Epoch 34/50\n",
      "170/170 - 0s - loss: 0.0418 - val_loss: 0.0390 - 398ms/epoch - 2ms/step\n",
      "Epoch 35/50\n",
      "170/170 - 0s - loss: 0.0418 - val_loss: 0.0390 - 484ms/epoch - 3ms/step\n",
      "Epoch 36/50\n",
      "170/170 - 0s - loss: 0.0418 - val_loss: 0.0390 - 476ms/epoch - 3ms/step\n",
      "Epoch 37/50\n",
      "170/170 - 1s - loss: 0.0418 - val_loss: 0.0390 - 509ms/epoch - 3ms/step\n",
      "Epoch 38/50\n",
      "170/170 - 0s - loss: 0.0419 - val_loss: 0.0391 - 465ms/epoch - 3ms/step\n",
      "Epoch 39/50\n",
      "170/170 - 0s - loss: 0.0418 - val_loss: 0.0390 - 459ms/epoch - 3ms/step\n",
      "Epoch 40/50\n",
      "170/170 - 0s - loss: 0.0418 - val_loss: 0.0390 - 453ms/epoch - 3ms/step\n",
      "Epoch 41/50\n",
      "170/170 - 0s - loss: 0.0418 - val_loss: 0.0391 - 399ms/epoch - 2ms/step\n",
      "Epoch 42/50\n",
      "170/170 - 0s - loss: 0.0418 - val_loss: 0.0390 - 426ms/epoch - 3ms/step\n",
      "Epoch 43/50\n",
      "170/170 - 0s - loss: 0.0418 - val_loss: 0.0390 - 476ms/epoch - 3ms/step\n",
      "Epoch 44/50\n",
      "170/170 - 0s - loss: 0.0418 - val_loss: 0.0390 - 417ms/epoch - 2ms/step\n",
      "Epoch 45/50\n",
      "170/170 - 0s - loss: 0.0418 - val_loss: 0.0390 - 425ms/epoch - 3ms/step\n",
      "Epoch 46/50\n",
      "170/170 - 0s - loss: 0.0418 - val_loss: 0.0390 - 396ms/epoch - 2ms/step\n",
      "Epoch 47/50\n",
      "170/170 - 0s - loss: 0.0418 - val_loss: 0.0390 - 422ms/epoch - 2ms/step\n",
      "Epoch 48/50\n",
      "170/170 - 0s - loss: 0.0418 - val_loss: 0.0390 - 426ms/epoch - 3ms/step\n",
      "Epoch 49/50\n",
      "170/170 - 1s - loss: 0.0418 - val_loss: 0.0391 - 524ms/epoch - 3ms/step\n",
      "Epoch 50/50\n",
      "170/170 - 0s - loss: 0.0418 - val_loss: 0.0390 - 445ms/epoch - 3ms/step\n"
     ]
    }
   ],
   "source": [
    "# fit network\n",
    "\n",
    "history = model.fit(train_X, train_y, epochs=50, batch_size=72, validation_data=(test_X, test_y), verbose=2, shuffle=False)\n"
   ]
  },
  {
   "cell_type": "code",
   "execution_count": 146,
   "id": "74767b52",
   "metadata": {},
   "outputs": [
    {
     "name": "stdout",
     "output_type": "stream",
     "text": [
      "Model: \"sequential_19\"\n",
      "_________________________________________________________________\n",
      " Layer (type)                Output Shape              Param #   \n",
      "=================================================================\n",
      " lstm_23 (LSTM)              (None, 50)                10600     \n",
      "                                                                 \n",
      " dense_17 (Dense)            (None, 1)                 51        \n",
      "                                                                 \n",
      "=================================================================\n",
      "Total params: 10,651\n",
      "Trainable params: 10,651\n",
      "Non-trainable params: 0\n",
      "_________________________________________________________________\n"
     ]
    }
   ],
   "source": [
    "model.summary()"
   ]
  },
  {
   "cell_type": "code",
   "execution_count": 156,
   "id": "c4688b63",
   "metadata": {},
   "outputs": [
    {
     "data": {
      "image/png": "[encoded data removed]",
      "text/plain": [
       "<Figure size 432x288 with 1 Axes>"
      ]
     },
     "metadata": {
      "needs_background": "light"
     },
     "output_type": "display_data"
    }
   ],
   "source": [
    "# plot results\n",
    "\n",
    "plt.plot(history.history['loss'], label='train')\n",
    "plt.plot(history.history['val_loss'], label='test')\n",
    "plt.legend()\n",
    "plt.show()"
   ]
  },
  {
   "cell_type": "code",
   "execution_count": 157,
   "id": "650338e1",
   "metadata": {},
   "outputs": [
    {
     "name": "stdout",
     "output_type": "stream",
     "text": [
      "[[[0.         0.44937833]]\n",
      "\n",
      " [[0.         0.52575488]]\n",
      "\n",
      " [[0.         0.59325044]]\n",
      "\n",
      " ...\n",
      "\n",
      " [[0.         0.55239787]]\n",
      "\n",
      " [[0.00434783 0.35523979]]\n",
      "\n",
      " [[0.         0.40497336]]]\n",
      "(730,)\n"
     ]
    }
   ],
   "source": [
    "print(test_X)\n",
    "print(test_y.shape)"
   ]
  },
  {
   "cell_type": "code",
   "execution_count": 159,
   "id": "75c15e70",
   "metadata": {},
   "outputs": [
    {
     "name": "stdout",
     "output_type": "stream",
     "text": [
      "(730, 1, 2)\n",
      "(730, 1)\n"
     ]
    }
   ],
   "source": [
    "from sklearn.metrics import mean_squared_error\n",
    "# evaluate the model\n",
    "\n",
    "yhat = model.predict(test_X)\n",
    "\n",
    "print(test_X.shape)\n",
    "\n",
    "print(yhat.shape)"
   ]
  },
  {
   "cell_type": "code",
   "execution_count": 150,
   "id": "cf8a1a97",
   "metadata": {},
   "outputs": [],
   "source": [
    "yhat = yhat.reshape(test_y.shape)"
   ]
  },
  {
   "cell_type": "code",
   "execution_count": 161,
   "id": "ee12f937",
   "metadata": {},
   "outputs": [
    {
     "name": "stdout",
     "output_type": "stream",
     "text": [
      "Test RMSE: 0.620\n"
     ]
    }
   ],
   "source": [
    "inv_pred = scalerP.inverse_transform(yhat.reshape(-1,1))\n",
    "\n",
    "inv_test_y = scalerP.inverse_transform(test_y.reshape(-1,1))\n",
    "\n",
    "rmse = np.sqrt(mean_squared_error(inv_test_y, inv_pred))\n",
    "\n",
    "print('Test RMSE: %.3f' % rmse)"
   ]
  },
  {
   "cell_type": "code",
   "execution_count": 160,
   "id": "65697e1c",
   "metadata": {},
   "outputs": [
    {
     "name": "stdout",
     "output_type": "stream",
     "text": [
      "0.525754884547069\n",
      "[[0.         0.44937833]\n",
      " [0.         0.52575488]\n",
      " [0.         0.59325044]\n",
      " ...\n",
      " [0.         0.55239787]\n",
      " [0.00434783 0.35523979]\n",
      " [0.         0.40497336]]\n",
      "reshaped test_X\n",
      "[[0.         0.44937833]\n",
      " [0.         0.52575488]\n",
      " [0.         0.59325044]\n",
      " ...\n",
      " [0.         0.55239787]\n",
      " [0.00434783 0.35523979]\n",
      " [0.         0.40497336]]\n",
      "inv_yhat before transform\n",
      "[[0.46773177 0.44937833]\n",
      " [0.53316003 0.52575488]\n",
      " [0.59288985 0.59325044]\n",
      " ...\n",
      " [0.5565272  0.55239787]\n",
      " [0.39007708 0.35523979]\n",
      " [0.4307774  0.40497336]]\n",
      "after\n",
      "[[ 5.3789154  17.86      ]\n",
      " [ 6.13134035 18.29      ]\n",
      " [ 6.81823322 18.67      ]\n",
      " ...\n",
      " [ 6.40006277 18.44      ]\n",
      " [ 4.48588647 17.33      ]\n",
      " [ 4.95394011 17.61      ]]\n",
      "Test RMSE: 0.620\n"
     ]
    }
   ],
   "source": [
    "\n",
    "#print(\"yhat from model.predict\")\n",
    "#print(yhat)\n",
    "\n",
    "t1 = test_X.reshape((test_X.shape[0], 2))\n",
    "\n",
    "print(t1[1, 1])\n",
    "\n",
    "print(t1)\n",
    "\n",
    "test_X = test_X.reshape((test_X.shape[0], test_X.shape[2]))\n",
    "\n",
    "print(\"reshaped test_X\")\n",
    "print(test_X)\n",
    "\n",
    "#invert scaling to forecast\n",
    "\n",
    "inv_yhat = np.concatenate((yhat, test_X[:, 1:]), axis=1)\n",
    "\n",
    "print(\"inv_yhat before transform\")\n",
    "print(inv_yhat)\n",
    "\n",
    "inv_yhat = scaler.inverse_transform(inv_yhat)\n",
    "\n",
    "print('after')\n",
    "print(inv_yhat)\n",
    "\n",
    "inv_yhat = inv_yhat[:, 0]\n",
    "\n",
    "#change scaling back\n",
    "\n",
    "test_y = test_y.reshape((len(test_y), 1))\n",
    "inv_y = np.concatenate((test_y, test_X[:, 1:]), axis=1)\n",
    "inv_y = scaler.inverse_transform(inv_y)\n",
    "inv_y = inv_y[:, 0]\n",
    "\n",
    "# calculate RMSE\n",
    "\n",
    "rmse = np.sqrt(mean_squared_error(inv_y, inv_yhat))\n",
    "\n",
    "print('Test RMSE: %.3f' % rmse)\n",
    "\n",
    "# off by about 0.622 ft, not bad!"
   ]
  },
  {
   "cell_type": "code",
   "execution_count": 29,
   "id": "d0751c40",
   "metadata": {},
   "outputs": [
    {
     "name": "stdout",
     "output_type": "stream",
     "text": [
      "[[15.006977]]\n"
     ]
    }
   ],
   "source": [
    "# trying to make interesting predictions\n",
    "\n",
    "pred_in = np.array([[20.0, 14.00]])\n",
    "pred_in = scaler.transform(pred_in)\n",
    "pred_in = pred_in.reshape(1, 1, 2)\n",
    "\n",
    "\n",
    "\n",
    "pred_out = model.predict(pred_in)\n",
    "print(scalerG.inverse_transform(pred_out))"
   ]
  },
  {
   "cell_type": "code",
   "execution_count": 30,
   "id": "16783d6b",
   "metadata": {},
   "outputs": [
    {
     "name": "stdout",
     "output_type": "stream",
     "text": [
      "            Precip  Gauge_Height\n",
      "Date                            \n",
      "2017-09-05    0.14         18.61\n",
      "2017-09-06    0.41         18.39\n",
      "2017-09-07    0.00         18.50\n",
      "2017-09-08    0.00         18.72\n",
      "2017-09-09    0.00         19.26\n",
      "2017-09-10    0.02         19.63\n",
      "2017-09-11    5.51         20.96\n",
      "[[18.606401]\n",
      " [18.40401 ]\n",
      " [18.51577 ]\n",
      " [18.708862]\n",
      " [19.192057]\n",
      " [19.529486]\n",
      " [20.524649]]\n"
     ]
    }
   ],
   "source": [
    "#print(cdf.loc[cdf['index'] >='2017-09-11']) # date 1 to use for prediction\n",
    "\n",
    "dates = pd.date_range(end='2017-09-11', periods=7)\n",
    "\n",
    "print(cdf.loc[dates])\n",
    "\n",
    "datesy = pd.date_range(end='2017-09-18', periods=7)\n",
    "\n",
    "drange = cdf.loc[dates]\n",
    "drange = scaler.transform(drange.values)\n",
    "drange = drange.reshape(7, 1, 2)\n",
    "\n",
    "exy1 = model.predict(drange)\n",
    "\n",
    "exy1\n",
    "\n",
    "print(scalerG.inverse_transform(exy1))\n",
    "#print(cdf.loc[datesy])"
   ]
  },
  {
   "cell_type": "code",
   "execution_count": 31,
   "id": "1e047ce1",
   "metadata": {},
   "outputs": [
    {
     "name": "stdout",
     "output_type": "stream",
     "text": [
      "            Precip  Gauge_Height\n",
      "Date                            \n",
      "1993-03-08    0.00         17.38\n",
      "1993-03-09    0.00         17.28\n",
      "1993-03-10    0.00         17.39\n",
      "1993-03-11    0.00         16.94\n",
      "1993-03-12    0.01         17.83\n",
      "1993-03-13    0.93         16.85\n",
      "1993-03-14    0.00         15.33\n",
      "[[17.568878]\n",
      " [17.487404]\n",
      " [17.577053]\n",
      " [17.214323]\n",
      " [17.941488]\n",
      " [17.112944]\n",
      " [16.007483]]\n"
     ]
    }
   ],
   "source": [
    "dates = pd.date_range(end='1993-03-14', periods=7)\n",
    "\n",
    "print(cdf.loc[dates])\n",
    "\n",
    "#datesy = pd.date_range(end='2017-09-18', periods=7)\n",
    "\n",
    "drange = cdf.loc[dates]\n",
    "drange = scaler.transform(drange.values)\n",
    "drange = drange.reshape(7, 1, 2)\n",
    "\n",
    "exy1 = model.predict(drange)\n",
    "\n",
    "exy1\n",
    "\n",
    "print(scalerG.inverse_transform(exy1))"
   ]
  },
  {
   "cell_type": "code",
   "execution_count": 32,
   "id": "58f9e3ad",
   "metadata": {},
   "outputs": [
    {
     "name": "stdout",
     "output_type": "stream",
     "text": [
      "            Precip  Gauge_Height\n",
      "Date                            \n",
      "2015-09-27    0.00         19.55\n",
      "2015-09-28    0.00         19.51\n",
      "2015-09-29    0.00         19.35\n",
      "2015-09-30    0.41         19.08\n",
      "2015-10-01    1.37         19.14\n",
      "2015-10-02    1.61         19.55\n",
      "2015-10-03   11.50         20.20\n",
      "[[19.456747]\n",
      " [19.420029]\n",
      " [19.273823]\n",
      " [19.0123  ]\n",
      " [19.026228]\n",
      " [19.386648]\n",
      " [19.585089]]\n"
     ]
    }
   ],
   "source": [
    "dates = pd.date_range(end='2015-10-03', periods=7)\n",
    "\n",
    "print(cdf.loc[dates])\n",
    "\n",
    "#datesy = pd.date_range(end='2017-09-18', periods=7)\n",
    "\n",
    "drange = cdf.loc[dates]\n",
    "drange = scaler.transform(drange.values)\n",
    "drange = drange.reshape(7, 1, 2)\n",
    "\n",
    "exy1 = model.predict(drange)\n",
    "\n",
    "exy1\n",
    "\n",
    "print(scalerG.inverse_transform(exy1))"
   ]
  }
 ],
 "metadata": {
  "kernelspec": {
   "display_name": "Python 3 (ipykernel)",
   "language": "python",
   "name": "python3"
  },
  "language_info": {
   "codemirror_mode": {
    "name": "ipython",
    "version": 3
   },
   "file_extension": ".py",
   "mimetype": "text/x-python",
   "name": "python",
   "nbconvert_exporter": "python",
   "pygments_lexer": "ipython3",
   "version": "3.9.7"
  }
 },
 "nbformat": 4,
 "nbformat_minor": 5
}
